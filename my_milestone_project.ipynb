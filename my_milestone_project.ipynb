{
 "cells": [
  {
   "cell_type": "code",
   "execution_count": null,
   "metadata": {},
   "outputs": [],
   "source": [
    "from IPython.display import clear_output\n",
    "\n",
    "def display_board(board):\n",
    "    \n",
    "    clear_output()\n",
    "    \n",
    "    print('   Helping Board                     Playing Board   ')\n",
    "    print('-------------------               -------------------')\n",
    "    print('|  1  |  2  |  3  |               | ', board[1] ,' | ', board[2] ,' | ', board[3] ,' |')\n",
    "    print('-------------------               -------------------')\n",
    "    print('|  4  |  5  |  6  |               | ', board[4] ,' | ', board[5] ,' | ', board[6] ,' |')\n",
    "    print('-------------------               -------------------')\n",
    "    print('|  7  |  8  |  9  |               | ', board[7] ,' | ', board[8] ,' | ', board[9] ,' |')\n",
    "    print('-------------------               -------------------')"
   ]
  },
  {
   "cell_type": "code",
   "execution_count": null,
   "metadata": {},
   "outputs": [],
   "source": [
    "def player_input():\n",
    "    choice=''\n",
    "    while choice!='X' and choice!='O':\n",
    "        choice = input(\"Player 1: Enter your choice: 'X' or 'O' : \").upper()\n",
    "    if choice=='X':\n",
    "        return ('X','O')\n",
    "    else:\n",
    "        return ('O','X')"
   ]
  },
  {
   "cell_type": "code",
   "execution_count": null,
   "metadata": {},
   "outputs": [],
   "source": [
    "def position_marker(board,marker,position):\n",
    "    board[position]=marker"
   ]
  },
  {
   "cell_type": "code",
   "execution_count": null,
   "metadata": {},
   "outputs": [],
   "source": [
    "import random\n",
    "\n",
    "def choose_first():\n",
    "    x=random.randint(0,1)\n",
    "    if x==0:\n",
    "        return('Player 1')\n",
    "    else:\n",
    "        return('Player 2')"
   ]
  },
  {
   "cell_type": "code",
   "execution_count": null,
   "metadata": {},
   "outputs": [],
   "source": [
    "def space_check(board,position):\n",
    "    return board[position]==' '"
   ]
  },
  {
   "cell_type": "code",
   "execution_count": null,
   "metadata": {},
   "outputs": [],
   "source": [
    "def win_check(board,mark):\n",
    "    return((board[1]==board[2]==board[3]==mark)or\n",
    "          (board[4]==board[5]==board[6]==mark)or\n",
    "          (board[7]==board[8]==board[9]==mark)or\n",
    "          (board[1]==board[4]==board[7]==mark)or\n",
    "          (board[2]==board[5]==board[8]==mark)or\n",
    "          (board[3]==board[6]==board[9]==mark)or\n",
    "          (board[1]==board[5]==board[9]==mark)or\n",
    "          (board[3]==board[5]==board[7]==mark))  "
   ]
  },
  {
   "cell_type": "code",
   "execution_count": null,
   "metadata": {},
   "outputs": [],
   "source": [
    "def full_board_check(board):\n",
    "    for i in range(1,10):\n",
    "        if space_check(board,i):\n",
    "            return False\n",
    "    return True"
   ]
  },
  {
   "cell_type": "code",
   "execution_count": null,
   "metadata": {},
   "outputs": [],
   "source": [
    "def player1_choice(board):\n",
    "    position = 0\n",
    "    \n",
    "    while position not in [1,2,3,4,5,6,7,8,9] or not space_check(board, position):\n",
    "        position = int(input('Choose your next position: (1-9) '))\n",
    "        \n",
    "    return position"
   ]
  },
  {
   "cell_type": "code",
   "execution_count": null,
   "metadata": {},
   "outputs": [],
   "source": [
    "def player2_choice(board):\n",
    "    position = 0\n",
    "    \n",
    "    while position not in [1,2,3,4,5,6,7,8,9] or not space_check(board, position):\n",
    "        position = int(input('Choose your next position: (1-9) '))\n",
    "        \n",
    "    return position"
   ]
  },
  {
   "cell_type": "code",
   "execution_count": null,
   "metadata": {},
   "outputs": [],
   "source": [
    "def replay():\n",
    "    x =input(\"Do you want to continue: 'Yes' or 'No': \")\n",
    "    return x[0].lower()=='y'"
   ]
  },
  {
   "cell_type": "code",
   "execution_count": null,
   "metadata": {},
   "outputs": [],
   "source": [
    "print(\"Welcome to Tic Tac Toe\")\n",
    "while True:\n",
    "    board=[' ']*10\n",
    "    \n",
    "    player1_name=input(\"Player 1\\tEnter your name: \")\n",
    "    player2_name=input(\"Player 2\\tEnter your name: \")\n",
    "    \n",
    "    player1_marker,player2_marker=player_input()\n",
    "    print(\"Player 1 : \",player1_marker)\n",
    "    print(\"Player 2 : \",player2_marker)\n",
    "    \n",
    "    turn = choose_first()\n",
    "    print(turn + \" will play first\")\n",
    "    \n",
    "    play_game = input(\"Are you ready to play: Yes or No : \").lower()\n",
    "    \n",
    "    if play_game[0]=='y':\n",
    "        game_on = True\n",
    "    else:\n",
    "        game_on = False\n",
    "        \n",
    "    while game_on:\n",
    "        if turn == 'Player 1':\n",
    "            \n",
    "            display_board(board)\n",
    "            position = player1_choice(board)\n",
    "            position_marker(board,player1_marker,position)\n",
    "            \n",
    "            if win_check(board,player1_marker):\n",
    "                display_board(board)\n",
    "                print(\"Congratulations! \",player1_name, \" won the game\")\n",
    "                game_on = False\n",
    "            \n",
    "            elif full_board_check(board):\n",
    "                display_board(board)\n",
    "                print(\"The game is a draw\")\n",
    "                break\n",
    "                \n",
    "            else:\n",
    "                turn = 'Player 2'\n",
    "                \n",
    "        else:\n",
    "            \n",
    "            display_board(board)\n",
    "            position = player2_choice(board)\n",
    "            position_marker(board,player2_marker,position)\n",
    "            \n",
    "            if win_check(board,player2_marker):\n",
    "                display_board(board)\n",
    "                print(\"Congratulations! \",player2_name,\" won the game\")\n",
    "                game_on = False\n",
    "            \n",
    "            elif full_board_check(board):\n",
    "                display_board(board)\n",
    "                print(\"The game is a draw\")\n",
    "                break\n",
    "                \n",
    "            else:\n",
    "                turn = 'Player 1'\n",
    "                \n",
    "    if not replay():\n",
    "        print(\"Thank you for playing the Game!\")\n",
    "        break"
   ]
  },
  {
   "cell_type": "code",
   "execution_count": null,
   "metadata": {},
   "outputs": [],
   "source": []
  }
 ],
 "metadata": {
  "kernelspec": {
   "display_name": "Python 3",
   "language": "python",
   "name": "python3"
  },
  "language_info": {
   "codemirror_mode": {
    "name": "ipython",
    "version": 3
   },
   "file_extension": ".py",
   "mimetype": "text/x-python",
   "name": "python",
   "nbconvert_exporter": "python",
   "pygments_lexer": "ipython3",
   "version": "3.7.6"
  }
 },
 "nbformat": 4,
 "nbformat_minor": 2
}
